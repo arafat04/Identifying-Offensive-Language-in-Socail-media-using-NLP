{
 "cells": [
  {
   "cell_type": "code",
   "execution_count": 1,
   "id": "preliminary-rover",
   "metadata": {},
   "outputs": [],
   "source": [
    "import pandas as pd \n",
    "\n",
    "tsv_file='C:\\\\Users\\\\USER\\\\Downloads\\\\440\\\\New folder\\\\Submitted Assingments to Farig sir\\\\Project\\OLIDv1.0\\\\data.tsv'\n",
    "\n",
    "# readinag given tsv file \n",
    "csv_table=pd.read_table(tsv_file,sep='\\t') \n",
    "\n",
    "# converting tsv file into csv \n",
    "csv_table.to_csv('data.csv',index=False) "
   ]
  },
  {
   "cell_type": "code",
   "execution_count": 2,
   "id": "consolidated-durham",
   "metadata": {},
   "outputs": [],
   "source": [
    "df = pd.read_csv(\"C:\\\\Users\\\\USER\\\\Downloads\\\\440\\\\New folder\\\\Submitted Assingments to Farig sir\\\\Project\\\\data.csv\")"
   ]
  },
  {
   "cell_type": "code",
   "execution_count": 3,
   "id": "former-outside",
   "metadata": {
    "scrolled": true
   },
   "outputs": [
    {
     "data": {
      "text/html": [
       "<div>\n",
       "<style scoped>\n",
       "    .dataframe tbody tr th:only-of-type {\n",
       "        vertical-align: middle;\n",
       "    }\n",
       "\n",
       "    .dataframe tbody tr th {\n",
       "        vertical-align: top;\n",
       "    }\n",
       "\n",
       "    .dataframe thead th {\n",
       "        text-align: right;\n",
       "    }\n",
       "</style>\n",
       "<table border=\"1\" class=\"dataframe\">\n",
       "  <thead>\n",
       "    <tr style=\"text-align: right;\">\n",
       "      <th></th>\n",
       "      <th>id</th>\n",
       "      <th>tweet</th>\n",
       "      <th>subtask_a</th>\n",
       "      <th>subtask_b</th>\n",
       "      <th>subtask_c</th>\n",
       "    </tr>\n",
       "  </thead>\n",
       "  <tbody>\n",
       "    <tr>\n",
       "      <th>0</th>\n",
       "      <td>86426</td>\n",
       "      <td>@USER She should ask a few native Americans wh...</td>\n",
       "      <td>OFF</td>\n",
       "      <td>UNT</td>\n",
       "      <td>NaN</td>\n",
       "    </tr>\n",
       "    <tr>\n",
       "      <th>1</th>\n",
       "      <td>90194</td>\n",
       "      <td>@USER @USER Go home you’re drunk!!! @USER #MAG...</td>\n",
       "      <td>OFF</td>\n",
       "      <td>TIN</td>\n",
       "      <td>IND</td>\n",
       "    </tr>\n",
       "    <tr>\n",
       "      <th>2</th>\n",
       "      <td>16820</td>\n",
       "      <td>Amazon is investigating Chinese employees who ...</td>\n",
       "      <td>NOT</td>\n",
       "      <td>NaN</td>\n",
       "      <td>NaN</td>\n",
       "    </tr>\n",
       "    <tr>\n",
       "      <th>3</th>\n",
       "      <td>62688</td>\n",
       "      <td>@USER Someone should'veTaken\" this piece of sh...</td>\n",
       "      <td>OFF</td>\n",
       "      <td>UNT</td>\n",
       "      <td>NaN</td>\n",
       "    </tr>\n",
       "    <tr>\n",
       "      <th>4</th>\n",
       "      <td>43605</td>\n",
       "      <td>@USER @USER Obama wanted liberals &amp;amp; illega...</td>\n",
       "      <td>NOT</td>\n",
       "      <td>NaN</td>\n",
       "      <td>NaN</td>\n",
       "    </tr>\n",
       "  </tbody>\n",
       "</table>\n",
       "</div>"
      ],
      "text/plain": [
       "      id                                              tweet subtask_a  \\\n",
       "0  86426  @USER She should ask a few native Americans wh...       OFF   \n",
       "1  90194  @USER @USER Go home you’re drunk!!! @USER #MAG...       OFF   \n",
       "2  16820  Amazon is investigating Chinese employees who ...       NOT   \n",
       "3  62688  @USER Someone should'veTaken\" this piece of sh...       OFF   \n",
       "4  43605  @USER @USER Obama wanted liberals &amp; illega...       NOT   \n",
       "\n",
       "  subtask_b subtask_c  \n",
       "0       UNT       NaN  \n",
       "1       TIN       IND  \n",
       "2       NaN       NaN  \n",
       "3       UNT       NaN  \n",
       "4       NaN       NaN  "
      ]
     },
     "execution_count": 3,
     "metadata": {},
     "output_type": "execute_result"
    }
   ],
   "source": [
    "df.head()"
   ]
  },
  {
   "cell_type": "code",
   "execution_count": 4,
   "id": "gothic-doctrine",
   "metadata": {},
   "outputs": [],
   "source": [
    "df_subtask_a = df[['tweet','subtask_a']] #taking only the subtask_a featur"
   ]
  },
  {
   "cell_type": "markdown",
   "id": "alert-information",
   "metadata": {},
   "source": [
    "# preprossing the data"
   ]
  },
  {
   "cell_type": "code",
   "execution_count": 5,
   "id": "viral-colombia",
   "metadata": {},
   "outputs": [],
   "source": [
    "from nltk.corpus import stopwords\n",
    "from nltk.tokenize import word_tokenize \n",
    "import string"
   ]
  },
  {
   "cell_type": "markdown",
   "id": "unique-contractor",
   "metadata": {},
   "source": [
    "* The clean_tweets function below was borrowed from a kaggle notebook as this performs text cleaning efficiently. "
   ]
  },
  {
   "cell_type": "code",
   "execution_count": 6,
   "id": "suffering-bracelet",
   "metadata": {},
   "outputs": [],
   "source": [
    "def clean_tweets(df):\n",
    "    \n",
    "    punctuations = string.punctuation\n",
    "    \n",
    "    df.loc[:, 'tweet'] = df.tweet.str.replace('@USER', '') #Remove mentions (@USER)\n",
    "    df.loc[:, 'tweet'] = df.tweet.str.replace('URL', '') #Remove URLs\n",
    "    df.loc[:, 'tweet'] = df.tweet.str.replace('&amp', 'and') #Replace ampersand (&) with and\n",
    "    df.loc[:, 'tweet'] = df.tweet.str.replace('&lt','') #Remove &lt\n",
    "    df.loc[:, 'tweet'] = df.tweet.str.replace('&gt','') #Remove &gt\n",
    "    df.loc[:, 'tweet'] = df.tweet.str.replace('\\d+','') #Remove numbers\n",
    "    df.loc[:, 'tweet'] = df.tweet.str.lower() #Lowercase\n",
    "\n",
    "    #Remove punctuations\n",
    "    for punctuation in punctuations:\n",
    "        df.loc[:, 'tweet'] = df.tweet.str.replace(punctuation, '')\n",
    "\n",
    "    df.loc[:, 'tweet'] = df.astype(str).apply(\n",
    "        lambda x: x.str.encode('ascii', 'ignore').str.decode('ascii')\n",
    "    )\n",
    "    #Remove emojis\n",
    "    df.loc[:, 'tweet'] = df.tweet.str.strip() #Trim leading and trailing whitespaces"
   ]
  },
  {
   "cell_type": "code",
   "execution_count": 7,
   "id": "sweet-attraction",
   "metadata": {},
   "outputs": [
    {
     "name": "stderr",
     "output_type": "stream",
     "text": [
      "C:\\Users\\USER\\AppData\\Local\\ActiveState\\cache\\b3f68620\\lib\\site-packages\\pandas\\core\\indexing.py:1843: SettingWithCopyWarning: \n",
      "A value is trying to be set on a copy of a slice from a DataFrame.\n",
      "Try using .loc[row_indexer,col_indexer] = value instead\n",
      "\n",
      "See the caveats in the documentation: https://pandas.pydata.org/pandas-docs/stable/user_guide/indexing.html#returning-a-view-versus-a-copy\n",
      "  self.obj[item_labels[indexer[info_axis]]] = value\n",
      "<ipython-input-6-77b4f79d41a5>:10: FutureWarning: The default value of regex will change from True to False in a future version.\n",
      "  df.loc[:, 'tweet'] = df.tweet.str.replace('\\d+','') #Remove numbers\n",
      "<ipython-input-6-77b4f79d41a5>:15: FutureWarning: The default value of regex will change from True to False in a future version. In addition, single character regular expressions will*not* be treated as literal strings when regex=True.\n",
      "  df.loc[:, 'tweet'] = df.tweet.str.replace(punctuation, '')\n"
     ]
    }
   ],
   "source": [
    "clean_tweets(df_subtask_a)"
   ]
  },
  {
   "cell_type": "code",
   "execution_count": 8,
   "id": "unnecessary-arcade",
   "metadata": {},
   "outputs": [
    {
     "data": {
      "text/plain": [
       "'she should ask a few native americans what their take on this is'"
      ]
     },
     "execution_count": 8,
     "metadata": {},
     "output_type": "execute_result"
    }
   ],
   "source": [
    "df_subtask_a.loc[0,'tweet']"
   ]
  },
  {
   "cell_type": "markdown",
   "id": "express-intake",
   "metadata": {},
   "source": [
    "### In the stop_words_remove function, I have used tokenization"
   ]
  },
  {
   "cell_type": "code",
   "execution_count": 9,
   "id": "nervous-nevada",
   "metadata": {},
   "outputs": [],
   "source": [
    "def stop_words_remove(li):\n",
    "   \n",
    "    stop_words = set(stopwords.words('english'))\n",
    "\n",
    "    from nltk.tokenize import word_tokenize\n",
    "    from nltk.tokenize import RegexpTokenizer\n",
    "    tokenizer = RegexpTokenizer(r'\\w+')\n",
    "\n",
    "    for key,value in enumerate(df_subtask_a['tweet']):\n",
    "        word_tokenized = word_tokenize(value)\n",
    "        string_to_be_append = \"\"\n",
    "        tokens = tokenizer.tokenize(value)\n",
    "        for w in word_tokenized:\n",
    "            if w not in stop_words and w in tokens:\n",
    "                string_to_be_append += w\n",
    "                string_to_be_append += \" \"\n",
    "        li.append(string_to_be_append)"
   ]
  },
  {
   "cell_type": "code",
   "execution_count": 10,
   "id": "substantial-explorer",
   "metadata": {},
   "outputs": [],
   "source": [
    "li_for_cleaning_stop_words_and_puntuation = []\n",
    "stop_words_remove(li_for_cleaning_stop_words_and_puntuation)"
   ]
  },
  {
   "cell_type": "code",
   "execution_count": 11,
   "id": "suffering-friendly",
   "metadata": {},
   "outputs": [
    {
     "data": {
      "text/plain": [
       "0    she should ask a few native americans what the...\n",
       "1                      go home youre drunk  maga trump\n",
       "2    amazon is investigating chinese employees who ...\n",
       "3    someone shouldvetaken this piece of shit to a ...\n",
       "4    obama wanted liberals and illegals to move int...\n",
       "5                              liberals are all kookoo\n",
       "Name: tweet, dtype: object"
      ]
     },
     "execution_count": 11,
     "metadata": {},
     "output_type": "execute_result"
    }
   ],
   "source": [
    "df_subtask_a.loc[0:5,'tweet']"
   ]
  },
  {
   "cell_type": "code",
   "execution_count": 12,
   "id": "hungry-behavior",
   "metadata": {},
   "outputs": [
    {
     "data": {
      "text/plain": [
       "['ask native americans take ',\n",
       " 'go home youre drunk maga trump ',\n",
       " 'amazon investigating chinese employees selling internal data thirdparty sellers looking edge competitive marketplace amazon maga kag china tcot ',\n",
       " 'someone shouldvetaken piece shit volcano ',\n",
       " 'obama wanted liberals illegals move red states ']"
      ]
     },
     "execution_count": 12,
     "metadata": {},
     "output_type": "execute_result"
    }
   ],
   "source": [
    "li_for_cleaning_stop_words_and_puntuation[0:5] # stop words removed"
   ]
  },
  {
   "cell_type": "code",
   "execution_count": 13,
   "id": "decreased-survivor",
   "metadata": {},
   "outputs": [
    {
     "name": "stderr",
     "output_type": "stream",
     "text": [
      "<ipython-input-13-e2d3025a377c>:1: SettingWithCopyWarning: \n",
      "A value is trying to be set on a copy of a slice from a DataFrame.\n",
      "Try using .loc[row_indexer,col_indexer] = value instead\n",
      "\n",
      "See the caveats in the documentation: https://pandas.pydata.org/pandas-docs/stable/user_guide/indexing.html#returning-a-view-versus-a-copy\n",
      "  df_subtask_a['tweet'] = li_for_cleaning_stop_words_and_puntuation\n"
     ]
    }
   ],
   "source": [
    "df_subtask_a['tweet'] = li_for_cleaning_stop_words_and_puntuation"
   ]
  },
  {
   "cell_type": "code",
   "execution_count": 14,
   "id": "widespread-edgar",
   "metadata": {},
   "outputs": [
    {
     "data": {
      "text/plain": [
       "'ask native americans take '"
      ]
     },
     "execution_count": 14,
     "metadata": {},
     "output_type": "execute_result"
    }
   ],
   "source": [
    "df_subtask_a.loc[0,'tweet'] #stop words less dataframe"
   ]
  },
  {
   "cell_type": "markdown",
   "id": "theoretical-garage",
   "metadata": {},
   "source": [
    "### checking the null values in the dataset  and categorical values in the label"
   ]
  },
  {
   "cell_type": "code",
   "execution_count": 15,
   "id": "assisted-alpha",
   "metadata": {},
   "outputs": [
    {
     "data": {
      "text/plain": [
       "tweet        0\n",
       "subtask_a    0\n",
       "dtype: int64"
      ]
     },
     "execution_count": 15,
     "metadata": {},
     "output_type": "execute_result"
    }
   ],
   "source": [
    "df_subtask_a.isnull().sum()"
   ]
  },
  {
   "cell_type": "code",
   "execution_count": 16,
   "id": "muslim-cholesterol",
   "metadata": {},
   "outputs": [
    {
     "data": {
      "text/plain": [
       "array(['OFF', 'NOT'], dtype=object)"
      ]
     },
     "execution_count": 16,
     "metadata": {},
     "output_type": "execute_result"
    }
   ],
   "source": [
    "df_subtask_a['subtask_a'].unique()"
   ]
  },
  {
   "cell_type": "markdown",
   "id": "expired-twenty",
   "metadata": {},
   "source": [
    "### only two categorical features in the label, OFF and NOT. Using binary label encoding we can convert this categorical features into 0 and 1"
   ]
  },
  {
   "cell_type": "code",
   "execution_count": 17,
   "id": "english-amateur",
   "metadata": {},
   "outputs": [],
   "source": [
    "y_before_encoding = df_subtask_a['subtask_a'].values"
   ]
  },
  {
   "cell_type": "code",
   "execution_count": 18,
   "id": "working-promotion",
   "metadata": {},
   "outputs": [
    {
     "data": {
      "text/plain": [
       "array(['OFF', 'OFF', 'NOT', ..., 'OFF', 'OFF', 'NOT'], dtype=object)"
      ]
     },
     "execution_count": 18,
     "metadata": {},
     "output_type": "execute_result"
    }
   ],
   "source": [
    "y_before_encoding"
   ]
  },
  {
   "cell_type": "code",
   "execution_count": 19,
   "id": "mechanical-singles",
   "metadata": {},
   "outputs": [],
   "source": [
    "# binary encoding - encoding OFF as 1, NOT as 0\n",
    "from sklearn.preprocessing import LabelEncoder\n",
    "\n",
    "# # Set up the LabelEncoder object\n",
    "enc = LabelEncoder()\n",
    "\n",
    "y= enc.fit_transform(y_before_encoding)"
   ]
  },
  {
   "cell_type": "code",
   "execution_count": 20,
   "id": "blond-device",
   "metadata": {},
   "outputs": [
    {
     "data": {
      "text/plain": [
       "array([1, 1, 0, ..., 1, 1, 0])"
      ]
     },
     "execution_count": 20,
     "metadata": {},
     "output_type": "execute_result"
    }
   ],
   "source": [
    "y"
   ]
  },
  {
   "cell_type": "markdown",
   "id": "labeled-great",
   "metadata": {},
   "source": [
    "# NLP Techniques"
   ]
  },
  {
   "cell_type": "markdown",
   "id": "israeli-henry",
   "metadata": {},
   "source": [
    "### POS Tag"
   ]
  },
  {
   "cell_type": "code",
   "execution_count": 21,
   "id": "dense-pride",
   "metadata": {},
   "outputs": [],
   "source": [
    "import spacy"
   ]
  },
  {
   "cell_type": "code",
   "execution_count": 22,
   "id": "continuous-riding",
   "metadata": {},
   "outputs": [],
   "source": [
    "pos_tagger_list =  []"
   ]
  },
  {
   "cell_type": "code",
   "execution_count": 23,
   "id": "modern-communications",
   "metadata": {},
   "outputs": [],
   "source": [
    "nlp = spacy.load(\"en_core_web_sm\")\n"
   ]
  },
  {
   "cell_type": "code",
   "execution_count": 24,
   "id": "complex-compilation",
   "metadata": {},
   "outputs": [],
   "source": [
    "series_for_pos_tagging = df_subtask_a.loc[:,'tweet']"
   ]
  },
  {
   "cell_type": "code",
   "execution_count": 25,
   "id": "confidential-territory",
   "metadata": {},
   "outputs": [],
   "source": [
    "pos_tag_list = [] # here in each index, pos tags for that particular index's sentence will be stored as a string"
   ]
  },
  {
   "cell_type": "code",
   "execution_count": 26,
   "id": "persistent-hungarian",
   "metadata": {},
   "outputs": [],
   "source": [
    "for i in series_for_pos_tagging:\n",
    "    doc = nlp(i)\n",
    "    pos_tag_string = \"\"\n",
    "    for token in doc:\n",
    "        \n",
    "        if token.pos_ != \"SPACE\":\n",
    "            pos_tag_string = pos_tag_string +\" \" + \"{}\".format(token.pos_.lower())\n",
    "    pos_tag_list.append(pos_tag_string.strip())      "
   ]
  },
  {
   "cell_type": "code",
   "execution_count": 27,
   "id": "spanish-arbor",
   "metadata": {},
   "outputs": [
    {
     "data": {
      "text/plain": [
       "['verb adj propn verb',\n",
       " 'verb adv pron verb adj noun noun',\n",
       " 'propn verb adj noun verb adj noun verb noun verb noun adj noun propn propn propn propn propn',\n",
       " 'pron verb noun noun noun',\n",
       " 'propn verb noun noun verb adj noun']"
      ]
     },
     "execution_count": 27,
     "metadata": {},
     "output_type": "execute_result"
    }
   ],
   "source": [
    "pos_tag_list[0:5]"
   ]
  },
  {
   "cell_type": "code",
   "execution_count": 28,
   "id": "romantic-hepatitis",
   "metadata": {},
   "outputs": [
    {
     "name": "stderr",
     "output_type": "stream",
     "text": [
      "<ipython-input-28-7fc0846e58dd>:1: SettingWithCopyWarning: \n",
      "A value is trying to be set on a copy of a slice from a DataFrame.\n",
      "Try using .loc[row_indexer,col_indexer] = value instead\n",
      "\n",
      "See the caveats in the documentation: https://pandas.pydata.org/pandas-docs/stable/user_guide/indexing.html#returning-a-view-versus-a-copy\n",
      "  df_subtask_a['pos_tags'] = pos_tag_list\n"
     ]
    }
   ],
   "source": [
    "df_subtask_a['pos_tags'] = pos_tag_list"
   ]
  },
  {
   "cell_type": "code",
   "execution_count": 29,
   "id": "opening-employee",
   "metadata": {},
   "outputs": [
    {
     "data": {
      "text/html": [
       "<div>\n",
       "<style scoped>\n",
       "    .dataframe tbody tr th:only-of-type {\n",
       "        vertical-align: middle;\n",
       "    }\n",
       "\n",
       "    .dataframe tbody tr th {\n",
       "        vertical-align: top;\n",
       "    }\n",
       "\n",
       "    .dataframe thead th {\n",
       "        text-align: right;\n",
       "    }\n",
       "</style>\n",
       "<table border=\"1\" class=\"dataframe\">\n",
       "  <thead>\n",
       "    <tr style=\"text-align: right;\">\n",
       "      <th></th>\n",
       "      <th>tweet</th>\n",
       "      <th>subtask_a</th>\n",
       "      <th>pos_tags</th>\n",
       "    </tr>\n",
       "  </thead>\n",
       "  <tbody>\n",
       "    <tr>\n",
       "      <th>0</th>\n",
       "      <td>ask native americans take</td>\n",
       "      <td>OFF</td>\n",
       "      <td>verb adj propn verb</td>\n",
       "    </tr>\n",
       "    <tr>\n",
       "      <th>1</th>\n",
       "      <td>go home youre drunk maga trump</td>\n",
       "      <td>OFF</td>\n",
       "      <td>verb adv pron verb adj noun noun</td>\n",
       "    </tr>\n",
       "    <tr>\n",
       "      <th>2</th>\n",
       "      <td>amazon investigating chinese employees selling...</td>\n",
       "      <td>NOT</td>\n",
       "      <td>propn verb adj noun verb adj noun verb noun ve...</td>\n",
       "    </tr>\n",
       "    <tr>\n",
       "      <th>3</th>\n",
       "      <td>someone shouldvetaken piece shit volcano</td>\n",
       "      <td>OFF</td>\n",
       "      <td>pron verb noun noun noun</td>\n",
       "    </tr>\n",
       "    <tr>\n",
       "      <th>4</th>\n",
       "      <td>obama wanted liberals illegals move red states</td>\n",
       "      <td>NOT</td>\n",
       "      <td>propn verb noun noun verb adj noun</td>\n",
       "    </tr>\n",
       "  </tbody>\n",
       "</table>\n",
       "</div>"
      ],
      "text/plain": [
       "                                               tweet subtask_a  \\\n",
       "0                         ask native americans take        OFF   \n",
       "1                    go home youre drunk maga trump        OFF   \n",
       "2  amazon investigating chinese employees selling...       NOT   \n",
       "3          someone shouldvetaken piece shit volcano        OFF   \n",
       "4    obama wanted liberals illegals move red states        NOT   \n",
       "\n",
       "                                            pos_tags  \n",
       "0                                verb adj propn verb  \n",
       "1                   verb adv pron verb adj noun noun  \n",
       "2  propn verb adj noun verb adj noun verb noun ve...  \n",
       "3                           pron verb noun noun noun  \n",
       "4                 propn verb noun noun verb adj noun  "
      ]
     },
     "execution_count": 29,
     "metadata": {},
     "output_type": "execute_result"
    }
   ],
   "source": [
    "df_subtask_a.head()"
   ]
  },
  {
   "cell_type": "markdown",
   "id": "descending-performer",
   "metadata": {},
   "source": [
    "### pos tag with only verb, adverb and adjective"
   ]
  },
  {
   "cell_type": "code",
   "execution_count": 30,
   "id": "major-comparison",
   "metadata": {},
   "outputs": [],
   "source": [
    "pos_tag_with_only_v_adv_adj = []"
   ]
  },
  {
   "cell_type": "code",
   "execution_count": 31,
   "id": "sexual-filename",
   "metadata": {},
   "outputs": [
    {
     "data": {
      "text/plain": [
       "13240"
      ]
     },
     "execution_count": 31,
     "metadata": {},
     "output_type": "execute_result"
    }
   ],
   "source": [
    "len(series_for_pos_tagging)"
   ]
  },
  {
   "cell_type": "code",
   "execution_count": 32,
   "id": "recorded-prior",
   "metadata": {},
   "outputs": [],
   "source": [
    "for i in series_for_pos_tagging:\n",
    "    \n",
    "    doc = nlp(i)\n",
    "    \n",
    "    pos_tag_string = \"\"\n",
    "    for token in doc:\n",
    "       # print(token.pos_)\n",
    "        if token.pos_ != \"SPACE\":\n",
    "            if token.pos_ == \"ADV\" or token.pos_ == \"VERB\" or token.pos_ == \"ADJ\": \n",
    "                pos_tag_string = pos_tag_string +\" \" + \"{}\".format(token.pos_.lower())\n",
    "                \n",
    "    pos_tag_with_only_v_adv_adj.append(pos_tag_string.strip())  "
   ]
  },
  {
   "cell_type": "code",
   "execution_count": 33,
   "id": "ignored-dimension",
   "metadata": {},
   "outputs": [
    {
     "name": "stderr",
     "output_type": "stream",
     "text": [
      "<ipython-input-33-dbedc6c13f59>:1: SettingWithCopyWarning: \n",
      "A value is trying to be set on a copy of a slice from a DataFrame.\n",
      "Try using .loc[row_indexer,col_indexer] = value instead\n",
      "\n",
      "See the caveats in the documentation: https://pandas.pydata.org/pandas-docs/stable/user_guide/indexing.html#returning-a-view-versus-a-copy\n",
      "  df_subtask_a['pos_tags_v_adv_adj'] = pos_tag_with_only_v_adv_adj\n"
     ]
    }
   ],
   "source": [
    "df_subtask_a['pos_tags_v_adv_adj'] = pos_tag_with_only_v_adv_adj"
   ]
  },
  {
   "cell_type": "code",
   "execution_count": 34,
   "id": "scenic-partnership",
   "metadata": {},
   "outputs": [
    {
     "data": {
      "text/html": [
       "<div>\n",
       "<style scoped>\n",
       "    .dataframe tbody tr th:only-of-type {\n",
       "        vertical-align: middle;\n",
       "    }\n",
       "\n",
       "    .dataframe tbody tr th {\n",
       "        vertical-align: top;\n",
       "    }\n",
       "\n",
       "    .dataframe thead th {\n",
       "        text-align: right;\n",
       "    }\n",
       "</style>\n",
       "<table border=\"1\" class=\"dataframe\">\n",
       "  <thead>\n",
       "    <tr style=\"text-align: right;\">\n",
       "      <th></th>\n",
       "      <th>tweet</th>\n",
       "      <th>subtask_a</th>\n",
       "      <th>pos_tags</th>\n",
       "      <th>pos_tags_v_adv_adj</th>\n",
       "    </tr>\n",
       "  </thead>\n",
       "  <tbody>\n",
       "    <tr>\n",
       "      <th>0</th>\n",
       "      <td>ask native americans take</td>\n",
       "      <td>OFF</td>\n",
       "      <td>verb adj propn verb</td>\n",
       "      <td>verb adj verb</td>\n",
       "    </tr>\n",
       "    <tr>\n",
       "      <th>1</th>\n",
       "      <td>go home youre drunk maga trump</td>\n",
       "      <td>OFF</td>\n",
       "      <td>verb adv pron verb adj noun noun</td>\n",
       "      <td>verb adv verb adj</td>\n",
       "    </tr>\n",
       "    <tr>\n",
       "      <th>2</th>\n",
       "      <td>amazon investigating chinese employees selling...</td>\n",
       "      <td>NOT</td>\n",
       "      <td>propn verb adj noun verb adj noun verb noun ve...</td>\n",
       "      <td>verb adj verb adj verb verb adj</td>\n",
       "    </tr>\n",
       "    <tr>\n",
       "      <th>3</th>\n",
       "      <td>someone shouldvetaken piece shit volcano</td>\n",
       "      <td>OFF</td>\n",
       "      <td>pron verb noun noun noun</td>\n",
       "      <td>verb</td>\n",
       "    </tr>\n",
       "    <tr>\n",
       "      <th>4</th>\n",
       "      <td>obama wanted liberals illegals move red states</td>\n",
       "      <td>NOT</td>\n",
       "      <td>propn verb noun noun verb adj noun</td>\n",
       "      <td>verb verb adj</td>\n",
       "    </tr>\n",
       "  </tbody>\n",
       "</table>\n",
       "</div>"
      ],
      "text/plain": [
       "                                               tweet subtask_a  \\\n",
       "0                         ask native americans take        OFF   \n",
       "1                    go home youre drunk maga trump        OFF   \n",
       "2  amazon investigating chinese employees selling...       NOT   \n",
       "3          someone shouldvetaken piece shit volcano        OFF   \n",
       "4    obama wanted liberals illegals move red states        NOT   \n",
       "\n",
       "                                            pos_tags  \\\n",
       "0                                verb adj propn verb   \n",
       "1                   verb adv pron verb adj noun noun   \n",
       "2  propn verb adj noun verb adj noun verb noun ve...   \n",
       "3                           pron verb noun noun noun   \n",
       "4                 propn verb noun noun verb adj noun   \n",
       "\n",
       "                pos_tags_v_adv_adj  \n",
       "0                    verb adj verb  \n",
       "1                verb adv verb adj  \n",
       "2  verb adj verb adj verb verb adj  \n",
       "3                             verb  \n",
       "4                    verb verb adj  "
      ]
     },
     "execution_count": 34,
     "metadata": {},
     "output_type": "execute_result"
    }
   ],
   "source": [
    "df_subtask_a.head()"
   ]
  },
  {
   "cell_type": "markdown",
   "id": "rubber-investing",
   "metadata": {},
   "source": [
    "# Word Representation"
   ]
  },
  {
   "cell_type": "markdown",
   "id": "attended-parking",
   "metadata": {},
   "source": [
    "### TF-IDF"
   ]
  },
  {
   "cell_type": "code",
   "execution_count": 35,
   "id": "neural-supplement",
   "metadata": {},
   "outputs": [],
   "source": [
    "from sklearn.feature_extraction.text import TfidfTransformer\n",
    "from sklearn.feature_extraction.text import TfidfVectorizer\n",
    "from sklearn.model_selection import train_test_split"
   ]
  },
  {
   "cell_type": "markdown",
   "id": "retained-racing",
   "metadata": {},
   "source": [
    "#### TF-IDF for \"pos-tags\" feature"
   ]
  },
  {
   "cell_type": "code",
   "execution_count": 36,
   "id": "blond-matter",
   "metadata": {},
   "outputs": [],
   "source": [
    "sentences_pos_tags = df_subtask_a['pos_tags'].values"
   ]
  },
  {
   "cell_type": "code",
   "execution_count": 37,
   "id": "biological-kinase",
   "metadata": {},
   "outputs": [],
   "source": [
    "\n",
    "pos_tags_train, pos_tags_test, y_train_pos_tags, y_test_pos_tags = train_test_split(sentences_pos_tags, y, test_size=0.20, random_state=42)"
   ]
  },
  {
   "cell_type": "code",
   "execution_count": 38,
   "id": "graphic-queen",
   "metadata": {},
   "outputs": [
    {
     "data": {
      "text/plain": [
       "<10592x15 sparse matrix of type '<class 'numpy.float64'>'\n",
       "\twith 43800 stored elements in Compressed Sparse Row format>"
      ]
     },
     "execution_count": 38,
     "metadata": {},
     "output_type": "execute_result"
    }
   ],
   "source": [
    "tfidfvectorizer_pos_tags = TfidfVectorizer(analyzer='word',stop_words= 'english')\n",
    "\n",
    "tfidfvectorizer_pos_tags.fit(pos_tags_train)\n",
    "\n",
    "X_train_pos_tags = tfidfvectorizer_pos_tags.transform(pos_tags_train)\n",
    "X_test_pos_tags  = tfidfvectorizer_pos_tags.transform(pos_tags_test)\n",
    "X_train_pos_tags"
   ]
  },
  {
   "cell_type": "markdown",
   "id": "collaborative-annual",
   "metadata": {},
   "source": [
    "#### TF-IDF for \"pos_tags_v_adv_adj\" feature"
   ]
  },
  {
   "cell_type": "code",
   "execution_count": 39,
   "id": "based-methodology",
   "metadata": {},
   "outputs": [],
   "source": [
    "sentences_pos_tags_v_adv_adj = df_subtask_a['pos_tags_v_adv_adj'].values"
   ]
  },
  {
   "cell_type": "code",
   "execution_count": 40,
   "id": "current-anime",
   "metadata": {},
   "outputs": [],
   "source": [
    "pos_tags_v_adv_adj_train, pos_tags_v_adv_adj_test, y_train_pos_tags_v_adv_adj, y_test_pos_tags_v_adv_adj = train_test_split(sentences_pos_tags_v_adv_adj, y, test_size=0.20, random_state=42)"
   ]
  },
  {
   "cell_type": "code",
   "execution_count": 41,
   "id": "successful-tooth",
   "metadata": {},
   "outputs": [
    {
     "data": {
      "text/plain": [
       "<10592x3 sparse matrix of type '<class 'numpy.float64'>'\n",
       "\twith 19721 stored elements in Compressed Sparse Row format>"
      ]
     },
     "execution_count": 41,
     "metadata": {},
     "output_type": "execute_result"
    }
   ],
   "source": [
    "tfidfvectorizer_pos_tags_v_adv_adj = TfidfVectorizer(analyzer='word',stop_words= 'english')\n",
    "\n",
    "tfidfvectorizer_pos_tags_v_adv_adj.fit(pos_tags_v_adv_adj_train)\n",
    "\n",
    "X_train_pos_tags_v_adv_adj = tfidfvectorizer_pos_tags_v_adv_adj.transform(pos_tags_v_adv_adj_train)\n",
    "X_test_pos_tags_v_adv_adj  = tfidfvectorizer_pos_tags_v_adv_adj.transform(pos_tags_v_adv_adj_test)\n",
    "X_train_pos_tags_v_adv_adj"
   ]
  },
  {
   "cell_type": "markdown",
   "id": "liquid-sharing",
   "metadata": {},
   "source": [
    "#### TF-IDF for \"tweet\" feature\n"
   ]
  },
  {
   "cell_type": "code",
   "execution_count": 42,
   "id": "center-system",
   "metadata": {},
   "outputs": [],
   "source": [
    "sentences_tweet = df_subtask_a['tweet'].values"
   ]
  },
  {
   "cell_type": "code",
   "execution_count": 43,
   "id": "sorted-enterprise",
   "metadata": {},
   "outputs": [
    {
     "data": {
      "text/plain": [
       "<10592x17482 sparse matrix of type '<class 'numpy.float64'>'\n",
       "\twith 94429 stored elements in Compressed Sparse Row format>"
      ]
     },
     "execution_count": 43,
     "metadata": {},
     "output_type": "execute_result"
    }
   ],
   "source": [
    "sentences_train_tweets, sentences_test_tweets, y_train_tweets, y_test_tweets = train_test_split(sentences_tweet, y, test_size=0.20, random_state=1000)\n",
    "tfidfvectorizer_tweets = TfidfVectorizer(analyzer='word',stop_words= 'english')\n",
    "\n",
    "tfidfvectorizer_tweets.fit(sentences_train_tweets)\n",
    "\n",
    "X_train_tweets = tfidfvectorizer_tweets.transform(sentences_train_tweets)\n",
    "X_test_tweets  = tfidfvectorizer_tweets.transform(sentences_test_tweets)\n",
    "X_train_tweets"
   ]
  },
  {
   "cell_type": "markdown",
   "id": "sacred-compilation",
   "metadata": {},
   "source": [
    "# Classification Using Scikit-learn libraries"
   ]
  },
  {
   "cell_type": "code",
   "execution_count": 99,
   "id": "linear-midnight",
   "metadata": {},
   "outputs": [],
   "source": [
    "import matplotlib.pyplot as plt\n",
    "from sklearn.linear_model import LogisticRegression\n",
    "from sklearn.naive_bayes import MultinomialNB\n",
    "import matplotlib.pyplot as plt\n",
    "from sklearn.metrics import confusion_matrix\n",
    "from sklearn.metrics import classification_report"
   ]
  },
  {
   "cell_type": "code",
   "execution_count": 45,
   "id": "cooked-monthly",
   "metadata": {},
   "outputs": [
    {
     "data": {
      "text/plain": [
       "Text(0, 0.5, 'no of offensive or not offensive labels')"
      ]
     },
     "execution_count": 45,
     "metadata": {},
     "output_type": "execute_result"
    },
    {
     "data": {
      "image/png": "[encoded data removed]",
      "text/plain": [
       "<Figure size 432x288 with 1 Axes>"
      ]
     },
     "metadata": {
      "needs_background": "light"
     },
     "output_type": "display_data"
    }
   ],
   "source": [
    "fig,ax = plt.subplots()\n",
    "ax.hist(y_train_pos_tags)\n",
    "ax.set_title('Frequency of Offensive Vs Not Offensive labels in the training dataset')\n",
    "ax.set_xlabel('class label')\n",
    "ax.set_ylabel('no of offensive or not offensive labels')"
   ]
  },
  {
   "cell_type": "markdown",
   "id": "western-gamma",
   "metadata": {},
   "source": [
    "### As we have two categories in the label class, we can use classification models to model them"
   ]
  },
  {
   "cell_type": "markdown",
   "id": "afraid-london",
   "metadata": {},
   "source": [
    "## Classification using the 'tweet' feature"
   ]
  },
  {
   "cell_type": "markdown",
   "id": "accepted-stuff",
   "metadata": {},
   "source": [
    "* Classifying using Logistic Regression *"
   ]
  },
  {
   "cell_type": "code",
   "execution_count": 46,
   "id": "desperate-rally",
   "metadata": {},
   "outputs": [
    {
     "name": "stdout",
     "output_type": "stream",
     "text": [
      "Logistic Regression Accuracy using tweets feature: 0.76\n"
     ]
    }
   ],
   "source": [
    "classifier_tweets = LogisticRegression()\n",
    "classifier_tweets.fit(X_train_tweets, y_train_tweets)\n",
    "score_tweets = classifier_tweets.score(X_test_tweets, y_test_tweets)\n",
    "\n",
    "print(\"Logistic Regression Accuracy using tweets feature:\", str(round(score_tweets, 2)))"
   ]
  },
  {
   "cell_type": "code",
   "execution_count": 105,
   "id": "minor-guatemala",
   "metadata": {},
   "outputs": [
    {
     "name": "stdout",
     "output_type": "stream",
     "text": [
      "              precision    recall  f1-score   support\n",
      "\n",
      "         NOT       0.75      0.95      0.84      1779\n",
      "         OFF       0.78      0.36      0.50       869\n",
      "\n",
      "    accuracy                           0.76      2648\n",
      "   macro avg       0.77      0.66      0.67      2648\n",
      "weighted avg       0.76      0.76      0.73      2648\n",
      "\n"
     ]
    }
   ],
   "source": [
    "print(classification_report(y_test_tweets, classifier_tweets.predict(X_test_tweets), target_names=['NOT','OFF']))"
   ]
  },
  {
   "cell_type": "markdown",
   "id": "intensive-respondent",
   "metadata": {},
   "source": [
    "* Classifying using Naive Bayes classifier."
   ]
  },
  {
   "cell_type": "code",
   "execution_count": 47,
   "id": "supported-laptop",
   "metadata": {},
   "outputs": [
    {
     "data": {
      "text/plain": [
       "MultinomialNB()"
      ]
     },
     "execution_count": 47,
     "metadata": {},
     "output_type": "execute_result"
    }
   ],
   "source": [
    "nb_tweets = MultinomialNB()\n",
    "nb_tweets.fit(X_train_tweets, y_train_tweets)"
   ]
  },
  {
   "cell_type": "code",
   "execution_count": 48,
   "id": "absolute-colleague",
   "metadata": {},
   "outputs": [],
   "source": [
    "naive_accuracy_tweets = nb_tweets.score(X_test_tweets, y_test_tweets)"
   ]
  },
  {
   "cell_type": "code",
   "execution_count": 49,
   "id": "ceramic-conditions",
   "metadata": {},
   "outputs": [
    {
     "name": "stdout",
     "output_type": "stream",
     "text": [
      "Naive Bayes Accuracy using tweets feature: 0.72\n"
     ]
    }
   ],
   "source": [
    "print(\"Naive Bayes Accuracy using tweets feature:\", str(round(naive_accuracy_tweets, 2)))"
   ]
  },
  {
   "cell_type": "code",
   "execution_count": 106,
   "id": "cardiac-canon",
   "metadata": {},
   "outputs": [
    {
     "name": "stdout",
     "output_type": "stream",
     "text": [
      "              precision    recall  f1-score   support\n",
      "\n",
      "         NOT       0.71      0.98      0.83      1779\n",
      "         OFF       0.83      0.19      0.31       869\n",
      "\n",
      "    accuracy                           0.72      2648\n",
      "   macro avg       0.77      0.59      0.57      2648\n",
      "weighted avg       0.75      0.72      0.66      2648\n",
      "\n"
     ]
    }
   ],
   "source": [
    "print(classification_report(y_test_tweets, nb_tweets.predict(X_test_tweets), target_names=['NOT','OFF']))"
   ]
  },
  {
   "cell_type": "markdown",
   "id": "blind-restaurant",
   "metadata": {},
   "source": [
    "### comparison between Logistic Regression and Naive Bayes"
   ]
  },
  {
   "cell_type": "code",
   "execution_count": 50,
   "id": "electrical-postcard",
   "metadata": {},
   "outputs": [
    {
     "data": {
      "image/png": "[encoded data removed]",
      "text/plain": [
       "<Figure size 432x288 with 1 Axes>"
      ]
     },
     "metadata": {
      "needs_background": "light"
     },
     "output_type": "display_data"
    }
   ],
   "source": [
    "fig_tweets = plt.figure()\n",
    "ax_tweets = fig_tweets.add_axes([0,0,0.5,1])\n",
    "langs_tweets = [\"Logistic Regression\", \"Naive Bayes\"]\n",
    "students_tweets = [score_tweets, naive_accuracy_tweets]\n",
    "ax_tweets.bar(langs_tweets,students_tweets)\n",
    "plt.show()"
   ]
  },
  {
   "cell_type": "markdown",
   "id": "technical-rates",
   "metadata": {},
   "source": [
    "## Classification using the 'pos_tags' feature"
   ]
  },
  {
   "cell_type": "markdown",
   "id": "immune-crossing",
   "metadata": {},
   "source": [
    "* Classifying using Logistic Regression"
   ]
  },
  {
   "cell_type": "code",
   "execution_count": 51,
   "id": "fixed-tamil",
   "metadata": {},
   "outputs": [
    {
     "name": "stdout",
     "output_type": "stream",
     "text": [
      "Logistic Regression Accuracy using pos_tags feature: 0.65\n"
     ]
    }
   ],
   "source": [
    "classifier_pos_tags = LogisticRegression()\n",
    "classifier_pos_tags.fit(X_train_pos_tags, y_train_pos_tags)\n",
    "score_pos_tags = classifier_pos_tags.score(X_test_pos_tags, y_test_pos_tags)\n",
    "\n",
    "print(\"Logistic Regression Accuracy using pos_tags feature:\", str(round(score_pos_tags, 2)))"
   ]
  },
  {
   "cell_type": "code",
   "execution_count": 108,
   "id": "entitled-ghana",
   "metadata": {},
   "outputs": [
    {
     "name": "stdout",
     "output_type": "stream",
     "text": [
      "              precision    recall  f1-score   support\n",
      "\n",
      "         NOT       0.65      1.00      0.79      1733\n",
      "         OFF       0.00      0.00      0.00       915\n",
      "\n",
      "    accuracy                           0.65      2648\n",
      "   macro avg       0.33      0.50      0.40      2648\n",
      "weighted avg       0.43      0.65      0.52      2648\n",
      "\n"
     ]
    }
   ],
   "source": [
    "print(classification_report(y_test_pos_tags, classifier_pos_tags.predict(X_test_pos_tags), target_names=['NOT','OFF']))"
   ]
  },
  {
   "cell_type": "markdown",
   "id": "verified-password",
   "metadata": {},
   "source": [
    "* Classifying using Naive Bayes classifier."
   ]
  },
  {
   "cell_type": "code",
   "execution_count": 52,
   "id": "engaging-wrestling",
   "metadata": {},
   "outputs": [
    {
     "data": {
      "text/plain": [
       "MultinomialNB()"
      ]
     },
     "execution_count": 52,
     "metadata": {},
     "output_type": "execute_result"
    }
   ],
   "source": [
    "nb_pos_tags = MultinomialNB()\n",
    "nb_pos_tags.fit(X_train_pos_tags, y_train_pos_tags)"
   ]
  },
  {
   "cell_type": "code",
   "execution_count": 109,
   "id": "raising-blank",
   "metadata": {},
   "outputs": [
    {
     "name": "stdout",
     "output_type": "stream",
     "text": [
      "              precision    recall  f1-score   support\n",
      "\n",
      "         NOT       0.65      1.00      0.79      1733\n",
      "         OFF       0.00      0.00      0.00       915\n",
      "\n",
      "    accuracy                           0.65      2648\n",
      "   macro avg       0.33      0.50      0.40      2648\n",
      "weighted avg       0.43      0.65      0.52      2648\n",
      "\n"
     ]
    },
    {
     "name": "stderr",
     "output_type": "stream",
     "text": [
      "C:\\Users\\USER\\AppData\\Local\\ActiveState\\cache\\b3f68620\\lib\\site-packages\\sklearn\\metrics\\_classification.py:1318: UndefinedMetricWarning: Precision and F-score are ill-defined and being set to 0.0 in labels with no predicted samples. Use `zero_division` parameter to control this behavior.\n",
      "  _warn_prf(average, modifier, msg_start, len(result))\n",
      "C:\\Users\\USER\\AppData\\Local\\ActiveState\\cache\\b3f68620\\lib\\site-packages\\sklearn\\metrics\\_classification.py:1318: UndefinedMetricWarning: Precision and F-score are ill-defined and being set to 0.0 in labels with no predicted samples. Use `zero_division` parameter to control this behavior.\n",
      "  _warn_prf(average, modifier, msg_start, len(result))\n",
      "C:\\Users\\USER\\AppData\\Local\\ActiveState\\cache\\b3f68620\\lib\\site-packages\\sklearn\\metrics\\_classification.py:1318: UndefinedMetricWarning: Precision and F-score are ill-defined and being set to 0.0 in labels with no predicted samples. Use `zero_division` parameter to control this behavior.\n",
      "  _warn_prf(average, modifier, msg_start, len(result))\n"
     ]
    }
   ],
   "source": [
    "print(classification_report(y_test_pos_tags, nb_pos_tags.predict(X_test_pos_tags), target_names=['NOT','OFF']))"
   ]
  },
  {
   "cell_type": "markdown",
   "id": "underlying-stage",
   "metadata": {},
   "source": [
    "## Classification using the 'pos_tags_v_adv_adj' feature"
   ]
  },
  {
   "cell_type": "markdown",
   "id": "right-starter",
   "metadata": {},
   "source": [
    "* Classifying using Logistic Regression"
   ]
  },
  {
   "cell_type": "code",
   "execution_count": 54,
   "id": "conservative-insulation",
   "metadata": {},
   "outputs": [
    {
     "name": "stdout",
     "output_type": "stream",
     "text": [
      "Logistic Regression Accuracy using pos_tags feature: 0.65\n"
     ]
    }
   ],
   "source": [
    "classifier_pos_tags_v_adv_adj = LogisticRegression()\n",
    "classifier_pos_tags_v_adv_adj.fit(X_train_pos_tags_v_adv_adj\n",
    ", y_train_pos_tags_v_adv_adj\n",
    ")\n",
    "score_pos_tags_v_adv_adj = classifier_pos_tags_v_adv_adj.score(X_test_pos_tags_v_adv_adj\n",
    ", y_test_pos_tags_v_adv_adj)\n",
    "\n",
    "print(\"Logistic Regression Accuracy using pos_tags feature:\", str(round(score_pos_tags_v_adv_adj, 2)))"
   ]
  },
  {
   "cell_type": "code",
   "execution_count": 110,
   "id": "moderate-august",
   "metadata": {},
   "outputs": [
    {
     "name": "stdout",
     "output_type": "stream",
     "text": [
      "              precision    recall  f1-score   support\n",
      "\n",
      "         NOT       0.65      1.00      0.79      1733\n",
      "         OFF       0.00      0.00      0.00       915\n",
      "\n",
      "    accuracy                           0.65      2648\n",
      "   macro avg       0.33      0.50      0.40      2648\n",
      "weighted avg       0.43      0.65      0.52      2648\n",
      "\n"
     ]
    },
    {
     "name": "stderr",
     "output_type": "stream",
     "text": [
      "C:\\Users\\USER\\AppData\\Local\\ActiveState\\cache\\b3f68620\\lib\\site-packages\\sklearn\\metrics\\_classification.py:1318: UndefinedMetricWarning: Precision and F-score are ill-defined and being set to 0.0 in labels with no predicted samples. Use `zero_division` parameter to control this behavior.\n",
      "  _warn_prf(average, modifier, msg_start, len(result))\n",
      "C:\\Users\\USER\\AppData\\Local\\ActiveState\\cache\\b3f68620\\lib\\site-packages\\sklearn\\metrics\\_classification.py:1318: UndefinedMetricWarning: Precision and F-score are ill-defined and being set to 0.0 in labels with no predicted samples. Use `zero_division` parameter to control this behavior.\n",
      "  _warn_prf(average, modifier, msg_start, len(result))\n",
      "C:\\Users\\USER\\AppData\\Local\\ActiveState\\cache\\b3f68620\\lib\\site-packages\\sklearn\\metrics\\_classification.py:1318: UndefinedMetricWarning: Precision and F-score are ill-defined and being set to 0.0 in labels with no predicted samples. Use `zero_division` parameter to control this behavior.\n",
      "  _warn_prf(average, modifier, msg_start, len(result))\n"
     ]
    }
   ],
   "source": [
    "print(classification_report(y_test_pos_tags_v_adv_adj, classifier_pos_tags_v_adv_adj.predict(X_test_pos_tags_v_adv_adj), target_names=['NOT','OFF']))"
   ]
  },
  {
   "cell_type": "markdown",
   "id": "ancient-zimbabwe",
   "metadata": {},
   "source": [
    "* Classifying using Naive Bayes classifier."
   ]
  },
  {
   "cell_type": "code",
   "execution_count": 55,
   "id": "vocational-musical",
   "metadata": {},
   "outputs": [
    {
     "data": {
      "text/plain": [
       "MultinomialNB()"
      ]
     },
     "execution_count": 55,
     "metadata": {},
     "output_type": "execute_result"
    }
   ],
   "source": [
    "nb_pos_tags_v_adv_adj = MultinomialNB()\n",
    "nb_pos_tags_v_adv_adj.fit(X_train_pos_tags_v_adv_adj, y_train_pos_tags_v_adv_adj)"
   ]
  },
  {
   "cell_type": "code",
   "execution_count": 56,
   "id": "korean-membership",
   "metadata": {},
   "outputs": [
    {
     "name": "stdout",
     "output_type": "stream",
     "text": [
      "Naive Bayes Accuracy using pos_tags_v_adv_adj feature: 0.65\n"
     ]
    }
   ],
   "source": [
    "naive_accuracy_pos_tags_v_adv_adj = nb_pos_tags_v_adv_adj.score(X_test_pos_tags_v_adv_adj\n",
    ", y_test_pos_tags_v_adv_adj)\n",
    "\n",
    "print(\"Naive Bayes Accuracy using pos_tags_v_adv_adj feature:\", str(round(naive_accuracy_pos_tags_v_adv_adj, 2)))"
   ]
  },
  {
   "cell_type": "code",
   "execution_count": 111,
   "id": "legitimate-alberta",
   "metadata": {},
   "outputs": [
    {
     "name": "stdout",
     "output_type": "stream",
     "text": [
      "              precision    recall  f1-score   support\n",
      "\n",
      "         NOT       0.65      1.00      0.79      1733\n",
      "         OFF       0.00      0.00      0.00       915\n",
      "\n",
      "    accuracy                           0.65      2648\n",
      "   macro avg       0.33      0.50      0.40      2648\n",
      "weighted avg       0.43      0.65      0.52      2648\n",
      "\n"
     ]
    },
    {
     "name": "stderr",
     "output_type": "stream",
     "text": [
      "C:\\Users\\USER\\AppData\\Local\\ActiveState\\cache\\b3f68620\\lib\\site-packages\\sklearn\\metrics\\_classification.py:1318: UndefinedMetricWarning: Precision and F-score are ill-defined and being set to 0.0 in labels with no predicted samples. Use `zero_division` parameter to control this behavior.\n",
      "  _warn_prf(average, modifier, msg_start, len(result))\n",
      "C:\\Users\\USER\\AppData\\Local\\ActiveState\\cache\\b3f68620\\lib\\site-packages\\sklearn\\metrics\\_classification.py:1318: UndefinedMetricWarning: Precision and F-score are ill-defined and being set to 0.0 in labels with no predicted samples. Use `zero_division` parameter to control this behavior.\n",
      "  _warn_prf(average, modifier, msg_start, len(result))\n",
      "C:\\Users\\USER\\AppData\\Local\\ActiveState\\cache\\b3f68620\\lib\\site-packages\\sklearn\\metrics\\_classification.py:1318: UndefinedMetricWarning: Precision and F-score are ill-defined and being set to 0.0 in labels with no predicted samples. Use `zero_division` parameter to control this behavior.\n",
      "  _warn_prf(average, modifier, msg_start, len(result))\n"
     ]
    }
   ],
   "source": [
    "print(classification_report(y_test_pos_tags_v_adv_adj, nb_pos_tags_v_adv_adj.predict(X_test_pos_tags_v_adv_adj), target_names=['NOT','OFF']))"
   ]
  },
  {
   "cell_type": "markdown",
   "id": "organized-jimmy",
   "metadata": {},
   "source": [
    "# now combining tweets with their pos tags"
   ]
  },
  {
   "cell_type": "code",
   "execution_count": 57,
   "id": "agreed-worth",
   "metadata": {},
   "outputs": [],
   "source": [
    "df_subtask_a['tweets_combined_pos'] = df_subtask_a['tweet']+df_subtask_a['pos_tags']"
   ]
  },
  {
   "cell_type": "code",
   "execution_count": 58,
   "id": "focal-grain",
   "metadata": {},
   "outputs": [
    {
     "data": {
      "text/html": [
       "<div>\n",
       "<style scoped>\n",
       "    .dataframe tbody tr th:only-of-type {\n",
       "        vertical-align: middle;\n",
       "    }\n",
       "\n",
       "    .dataframe tbody tr th {\n",
       "        vertical-align: top;\n",
       "    }\n",
       "\n",
       "    .dataframe thead th {\n",
       "        text-align: right;\n",
       "    }\n",
       "</style>\n",
       "<table border=\"1\" class=\"dataframe\">\n",
       "  <thead>\n",
       "    <tr style=\"text-align: right;\">\n",
       "      <th></th>\n",
       "      <th>tweet</th>\n",
       "      <th>subtask_a</th>\n",
       "      <th>pos_tags</th>\n",
       "      <th>pos_tags_v_adv_adj</th>\n",
       "      <th>tweets_combined_pos</th>\n",
       "    </tr>\n",
       "  </thead>\n",
       "  <tbody>\n",
       "    <tr>\n",
       "      <th>0</th>\n",
       "      <td>ask native americans take</td>\n",
       "      <td>OFF</td>\n",
       "      <td>verb adj propn verb</td>\n",
       "      <td>verb adj verb</td>\n",
       "      <td>ask native americans take verb adj propn verb</td>\n",
       "    </tr>\n",
       "    <tr>\n",
       "      <th>1</th>\n",
       "      <td>go home youre drunk maga trump</td>\n",
       "      <td>OFF</td>\n",
       "      <td>verb adv pron verb adj noun noun</td>\n",
       "      <td>verb adv verb adj</td>\n",
       "      <td>go home youre drunk maga trump verb adv pron v...</td>\n",
       "    </tr>\n",
       "    <tr>\n",
       "      <th>2</th>\n",
       "      <td>amazon investigating chinese employees selling...</td>\n",
       "      <td>NOT</td>\n",
       "      <td>propn verb adj noun verb adj noun verb noun ve...</td>\n",
       "      <td>verb adj verb adj verb verb adj</td>\n",
       "      <td>amazon investigating chinese employees selling...</td>\n",
       "    </tr>\n",
       "    <tr>\n",
       "      <th>3</th>\n",
       "      <td>someone shouldvetaken piece shit volcano</td>\n",
       "      <td>OFF</td>\n",
       "      <td>pron verb noun noun noun</td>\n",
       "      <td>verb</td>\n",
       "      <td>someone shouldvetaken piece shit volcano pron ...</td>\n",
       "    </tr>\n",
       "    <tr>\n",
       "      <th>4</th>\n",
       "      <td>obama wanted liberals illegals move red states</td>\n",
       "      <td>NOT</td>\n",
       "      <td>propn verb noun noun verb adj noun</td>\n",
       "      <td>verb verb adj</td>\n",
       "      <td>obama wanted liberals illegals move red states...</td>\n",
       "    </tr>\n",
       "  </tbody>\n",
       "</table>\n",
       "</div>"
      ],
      "text/plain": [
       "                                               tweet subtask_a  \\\n",
       "0                         ask native americans take        OFF   \n",
       "1                    go home youre drunk maga trump        OFF   \n",
       "2  amazon investigating chinese employees selling...       NOT   \n",
       "3          someone shouldvetaken piece shit volcano        OFF   \n",
       "4    obama wanted liberals illegals move red states        NOT   \n",
       "\n",
       "                                            pos_tags  \\\n",
       "0                                verb adj propn verb   \n",
       "1                   verb adv pron verb adj noun noun   \n",
       "2  propn verb adj noun verb adj noun verb noun ve...   \n",
       "3                           pron verb noun noun noun   \n",
       "4                 propn verb noun noun verb adj noun   \n",
       "\n",
       "                pos_tags_v_adv_adj  \\\n",
       "0                    verb adj verb   \n",
       "1                verb adv verb adj   \n",
       "2  verb adj verb adj verb verb adj   \n",
       "3                             verb   \n",
       "4                    verb verb adj   \n",
       "\n",
       "                                 tweets_combined_pos  \n",
       "0      ask native americans take verb adj propn verb  \n",
       "1  go home youre drunk maga trump verb adv pron v...  \n",
       "2  amazon investigating chinese employees selling...  \n",
       "3  someone shouldvetaken piece shit volcano pron ...  \n",
       "4  obama wanted liberals illegals move red states...  "
      ]
     },
     "execution_count": 58,
     "metadata": {},
     "output_type": "execute_result"
    }
   ],
   "source": [
    "df_subtask_a.head()"
   ]
  },
  {
   "cell_type": "code",
   "execution_count": 59,
   "id": "rough-intake",
   "metadata": {},
   "outputs": [],
   "source": [
    "sen = df_subtask_a['tweets_combined_pos'].values"
   ]
  },
  {
   "cell_type": "code",
   "execution_count": 60,
   "id": "incorrect-cleaners",
   "metadata": {},
   "outputs": [
    {
     "data": {
      "text/plain": [
       "<10592x17482 sparse matrix of type '<class 'numpy.float64'>'\n",
       "\twith 94429 stored elements in Compressed Sparse Row format>"
      ]
     },
     "execution_count": 60,
     "metadata": {},
     "output_type": "execute_result"
    }
   ],
   "source": [
    "sen_train_combine, sen_test_combine, y_train_combine, y_test_combine = train_test_split(sen, y, test_size=0.20, random_state=1000)\n",
    "tfidfvectorizer_combined = TfidfVectorizer(analyzer='word',stop_words= 'english')\n",
    "\n",
    "tfidfvectorizer_combined.fit(sen_train_combine)\n",
    "\n",
    "X_train_combine = tfidfvectorizer_combined.transform(sen_train_combine)\n",
    "X_test_combine  = tfidfvectorizer_combined.transform(sen_test_combine)\n",
    "X_train_tweets"
   ]
  },
  {
   "cell_type": "code",
   "execution_count": 61,
   "id": "growing-contribution",
   "metadata": {},
   "outputs": [],
   "source": [
    "offensive = 0\n",
    "for value in y_test_combine:\n",
    "    if value == 1:\n",
    "        \n",
    "        offensive += 1"
   ]
  },
  {
   "cell_type": "code",
   "execution_count": 62,
   "id": "photographic-spencer",
   "metadata": {},
   "outputs": [
    {
     "name": "stdout",
     "output_type": "stream",
     "text": [
      "number of offensive tags in y_test_combine data 869\n"
     ]
    }
   ],
   "source": [
    "print(\"number of offensive tags in y_test_combine data\", offensive)"
   ]
  },
  {
   "cell_type": "code",
   "execution_count": 63,
   "id": "municipal-elder",
   "metadata": {},
   "outputs": [
    {
     "name": "stdout",
     "output_type": "stream",
     "text": [
      "Logistic Regression Accuracy using tweets_combined_pos feature: 0.75\n"
     ]
    }
   ],
   "source": [
    "classifier_combine = LogisticRegression()\n",
    "classifier_combine.fit(X_train_combine, y_train_combine)\n",
    "score_combine = classifier_combine.score(X_test_combine, y_test_combine)\n",
    "print(\"Logistic Regression Accuracy using tweets_combined_pos feature:\", str(round(score_combine, 2)))"
   ]
  },
  {
   "cell_type": "markdown",
   "id": "confident-sydney",
   "metadata": {},
   "source": [
    "# Visualizing using Confusion Matrix"
   ]
  },
  {
   "cell_type": "markdown",
   "id": "embedded-injury",
   "metadata": {},
   "source": [
    "* As the highest accuracy I got is .75 for Logistic regression using both tweet feature and tweets_combined_pos feature, I am using a confusion matrix to see prediction accuracy for each category"
   ]
  },
  {
   "cell_type": "code",
   "execution_count": 64,
   "id": "enormous-logistics",
   "metadata": {},
   "outputs": [
    {
     "data": {
      "text/plain": [
       "Text(0, 0.5, 'no of offensive or not offensive labels')"
      ]
     },
     "execution_count": 64,
     "metadata": {},
     "output_type": "execute_result"
    },
    {
     "data": {
      "image/png": "[encoded data removed]",
      "text/plain": [
       "<Figure size 432x288 with 1 Axes>"
      ]
     },
     "metadata": {
      "needs_background": "light"
     },
     "output_type": "display_data"
    }
   ],
   "source": [
    "fig,ax = plt.subplots()\n",
    "ax.hist(y_test_combine)\n",
    "ax.set_title('Frequency of Offensive Vs Not Offensive labels in test labels')\n",
    "ax.set_xlabel('class label = 1:OFF, 0:NOT')\n",
    "ax.set_ylabel('no of offensive or not offensive labels')"
   ]
  },
  {
   "cell_type": "code",
   "execution_count": 65,
   "id": "coordinate-nursery",
   "metadata": {},
   "outputs": [
    {
     "name": "stdout",
     "output_type": "stream",
     "text": [
      "[[1650  525]\n",
      " [ 129  344]]\n"
     ]
    }
   ],
   "source": [
    "mat=confusion_matrix(classifier_combine.predict(X_test_combine), y_test_combine)\n",
    "print(mat)"
   ]
  },
  {
   "cell_type": "code",
   "execution_count": 122,
   "id": "popular-german",
   "metadata": {},
   "outputs": [
    {
     "data": {
      "text/plain": [
       "Text(33.0, 0.5, 'Predicted label for Logistic Regression')"
      ]
     },
     "execution_count": 122,
     "metadata": {},
     "output_type": "execute_result"
    },
    {
     "data": {
      "image/png": "[encoded data removed]",
      "text/plain": [
       "<Figure size 432x288 with 2 Axes>"
      ]
     },
     "metadata": {},
     "output_type": "display_data"
    }
   ],
   "source": [
    "from seaborn import heatmap\n",
    "heatmap(mat , cmap=\"prism\", annot=True)\n",
    "plt.xlabel(\"True label for Logistic Regression\")\n",
    "plt.ylabel(\"Predicted label for Logistic Regression\")"
   ]
  },
  {
   "cell_type": "markdown",
   "id": "quick-armenia",
   "metadata": {},
   "source": [
    "* for logistic regression"
   ]
  },
  {
   "cell_type": "code",
   "execution_count": 124,
   "id": "internal-norman",
   "metadata": {},
   "outputs": [
    {
     "name": "stdout",
     "output_type": "stream",
     "text": [
      "              precision    recall  f1-score   support\n",
      "\n",
      "         NOT       0.76      0.93      0.83      1779\n",
      "         OFF       0.73      0.40      0.51       869\n",
      "\n",
      "    accuracy                           0.75      2648\n",
      "   macro avg       0.74      0.66      0.67      2648\n",
      "weighted avg       0.75      0.75      0.73      2648\n",
      "\n"
     ]
    }
   ],
   "source": [
    "print(classification_report(y_test_combine, classifier_combine.predict(X_test_combine), target_names=['NOT','OFF']))"
   ]
  },
  {
   "cell_type": "markdown",
   "id": "pleased-pursuit",
   "metadata": {},
   "source": [
    "* for Naive Bayes"
   ]
  },
  {
   "cell_type": "code",
   "execution_count": 112,
   "id": "hindu-detection",
   "metadata": {},
   "outputs": [
    {
     "data": {
      "text/plain": [
       "MultinomialNB()"
      ]
     },
     "execution_count": 112,
     "metadata": {},
     "output_type": "execute_result"
    }
   ],
   "source": [
    "nb_combined = MultinomialNB()\n",
    "nb_combined.fit(X_train_combine, y_train_combine)"
   ]
  },
  {
   "cell_type": "code",
   "execution_count": 123,
   "id": "under-motorcycle",
   "metadata": {},
   "outputs": [
    {
     "name": "stdout",
     "output_type": "stream",
     "text": [
      "              precision    recall  f1-score   support\n",
      "\n",
      "         NOT       0.70      0.99      0.82      1779\n",
      "         OFF       0.86      0.14      0.24       869\n",
      "\n",
      "    accuracy                           0.71      2648\n",
      "   macro avg       0.78      0.57      0.53      2648\n",
      "weighted avg       0.75      0.71      0.63      2648\n",
      "\n"
     ]
    }
   ],
   "source": [
    "print(classification_report(y_test_combine, nb_combined.predict(X_test_combine), target_names=['NOT','OFF']))"
   ]
  },
  {
   "cell_type": "markdown",
   "id": "united-companion",
   "metadata": {},
   "source": [
    "# Neural Network Model"
   ]
  },
  {
   "cell_type": "code",
   "execution_count": 69,
   "id": "italian-acceptance",
   "metadata": {},
   "outputs": [],
   "source": [
    "import numpy as np\n",
    "from tensorflow.keras.preprocessing.text import Tokenizer\n",
    "from tensorflow.keras.preprocessing.sequence import pad_sequences\n",
    "from tensorflow.keras.models import Sequential\n",
    "from tensorflow.keras.layers import Embedding\n",
    "from tensorflow.keras import layers\n",
    "from tensorflow.keras.callbacks import EarlyStopping, LambdaCallback\n",
    "from sklearn.preprocessing import MinMaxScaler"
   ]
  },
  {
   "cell_type": "code",
   "execution_count": 70,
   "id": "taken-captain",
   "metadata": {},
   "outputs": [],
   "source": [
    "sen_train_combine_nn, sen_test_combine_nn, y_train_combine_nn, y_test_combine_nn = train_test_split(sen, y, test_size=0.20, random_state=42)\n"
   ]
  },
  {
   "cell_type": "code",
   "execution_count": 71,
   "id": "international-trout",
   "metadata": {},
   "outputs": [],
   "source": [
    "tokenizer = Tokenizer()\n",
    "tokenizer.fit_on_texts(sen_train_combine_nn)\n",
    "X_train_nn = tokenizer.texts_to_sequences(sen_train_combine_nn)\n",
    "X_test_nn = tokenizer.texts_to_sequences(sen_test_combine_nn)"
   ]
  },
  {
   "cell_type": "markdown",
   "id": "august-slope",
   "metadata": {},
   "source": [
    "### creating embedding"
   ]
  },
  {
   "cell_type": "code",
   "execution_count": 72,
   "id": "opened-evanescence",
   "metadata": {},
   "outputs": [],
   "source": [
    "def create_embedding_matrix(filepath, word_index, embedding_dim):\n",
    "    vocab_size = len(word_index) + 1  # Adding again 1 because of reserved 0 index\n",
    "    embedding_matrix = np.zeros((vocab_size, embedding_dim))\n",
    "\n",
    "    with open(filepath,\"r\",encoding=\"utf-8\") as f:\n",
    "        for line in f:\n",
    "            word, *vector = line.split()\n",
    "            if word in word_index:\n",
    "                idx = word_index[word] \n",
    "                embedding_matrix[idx] = np.array(\n",
    "                    vector, dtype=np.float32)[:embedding_dim]\n",
    "\n",
    "    return embedding_matrix"
   ]
  },
  {
   "cell_type": "code",
   "execution_count": 73,
   "id": "essential-generator",
   "metadata": {},
   "outputs": [],
   "source": [
    "embedding_dim = 100\n",
    "embedding_matrix = create_embedding_matrix(\n",
    "    'C:\\\\Users\\\\USER\\\\Downloads\\\\440\\\\New folder\\\\Assignment 2\\\\glove6B100d.txt',\n",
    "    tokenizer.word_index, embedding_dim)"
   ]
  },
  {
   "cell_type": "code",
   "execution_count": 74,
   "id": "serious-failure",
   "metadata": {},
   "outputs": [
    {
     "data": {
      "text/plain": [
       "array([[ 0.        ,  0.        ,  0.        , ...,  0.        ,\n",
       "         0.        ,  0.        ],\n",
       "       [ 0.3003    ,  0.85930997, -0.066927  , ..., -0.46044999,\n",
       "         0.15888999,  0.4517    ],\n",
       "       [-0.03256   ,  0.99294001, -0.36622   , ..., -0.56173998,\n",
       "        -0.22282   ,  0.24939001],\n",
       "       ...,\n",
       "       [-0.087     ,  0.17776   , -0.10539   , ..., -0.44029999,\n",
       "         0.049846  ,  0.39524001],\n",
       "       [-0.46167001, -0.34029999, -0.3874    , ..., -0.14184999,\n",
       "        -0.34796   ,  0.22495   ],\n",
       "       [ 0.47510999,  0.30752999,  0.34804001, ..., -0.14168   ,\n",
       "        -0.42387   ,  0.97201002]])"
      ]
     },
     "execution_count": 74,
     "metadata": {},
     "output_type": "execute_result"
    }
   ],
   "source": [
    "embedding_matrix"
   ]
  },
  {
   "cell_type": "code",
   "execution_count": 75,
   "id": "common-fortune",
   "metadata": {},
   "outputs": [],
   "source": [
    "vocab_size = len(tokenizer.word_index)+1"
   ]
  },
  {
   "cell_type": "markdown",
   "id": "political-kingdom",
   "metadata": {},
   "source": [
    "### padding to max length = 100"
   ]
  },
  {
   "cell_type": "code",
   "execution_count": 76,
   "id": "white-disclaimer",
   "metadata": {},
   "outputs": [],
   "source": [
    "maxlen = 100\n",
    "\n",
    "X_train_nn = pad_sequences(X_train_nn, padding='post', maxlen=maxlen)\n",
    "X_test_nn = pad_sequences(X_test_nn, padding='post', maxlen=maxlen)"
   ]
  },
  {
   "cell_type": "code",
   "execution_count": 77,
   "id": "national-nickel",
   "metadata": {},
   "outputs": [
    {
     "name": "stdout",
     "output_type": "stream",
     "text": [
      "[ 388   17 1312 5265  460 2078 4095 1144 1071 5266  194 2078  104 1503\n",
      "  973  194 7598  378 7599    4    4    2    2    3    1    5    2    3\n",
      "    1    1    1    2    1    3    1    4    4    4    0    0    0    0\n",
      "    0    0    0    0    0    0    0    0    0    0    0    0    0    0\n",
      "    0    0    0    0    0    0    0    0    0    0    0    0    0    0\n",
      "    0    0    0    0    0    0    0    0    0    0    0    0    0    0\n",
      "    0    0    0    0    0    0    0    0    0    0    0    0    0    0\n",
      "    0    0]\n"
     ]
    }
   ],
   "source": [
    "print(X_train_nn[1, :])"
   ]
  },
  {
   "cell_type": "markdown",
   "id": "killing-relations",
   "metadata": {},
   "source": [
    "### creating the model"
   ]
  },
  {
   "cell_type": "code",
   "execution_count": 78,
   "id": "roman-foundation",
   "metadata": {},
   "outputs": [
    {
     "name": "stdout",
     "output_type": "stream",
     "text": [
      "Model: \"sequential\"\n",
      "_________________________________________________________________\n",
      "Layer (type)                 Output Shape              Param #   \n",
      "=================================================================\n",
      "embedding (Embedding)        (None, 100, 100)          1753300   \n",
      "_________________________________________________________________\n",
      "flatten (Flatten)            (None, 10000)             0         \n",
      "_________________________________________________________________\n",
      "dense (Dense)                (None, 10)                100010    \n",
      "_________________________________________________________________\n",
      "dense_1 (Dense)              (None, 1)                 11        \n",
      "=================================================================\n",
      "Total params: 1,853,321\n",
      "Trainable params: 100,021\n",
      "Non-trainable params: 1,753,300\n",
      "_________________________________________________________________\n"
     ]
    }
   ],
   "source": [
    "model = Sequential()\n",
    "model.add(layers.Embedding(vocab_size, embedding_dim, \n",
    "                           weights=[embedding_matrix], \n",
    "                           input_length=maxlen, \n",
    "                           trainable=False))\n",
    "\n",
    "model.add(layers.Flatten())\n",
    "model.add(layers.Dense(10, activation='relu'))\n",
    "model.add(layers.Dense(1, activation='sigmoid'))\n",
    "model.compile(optimizer='adam',\n",
    "              loss='binary_crossentropy',\n",
    "              metrics=['accuracy'])\n",
    "model.summary()"
   ]
  },
  {
   "cell_type": "code",
   "execution_count": 85,
   "id": "interstate-supervision",
   "metadata": {},
   "outputs": [],
   "source": [
    "y_train_combine_nn = y_train_combine_nn.astype(np.int16)\n",
    "y_test_combine_nn = y_test_combine_nn.astype(np.int16)"
   ]
  },
  {
   "cell_type": "code",
   "execution_count": 86,
   "id": "stable-exploration",
   "metadata": {},
   "outputs": [],
   "source": [
    "history = model.fit(X_train_nn, y_train_combine_nn,\n",
    "                    epochs=100,\n",
    "                    verbose=False,\n",
    "                    validation_data=(X_test_nn, y_test_combine_nn),\n",
    "                    batch_size=20)\n"
   ]
  },
  {
   "cell_type": "code",
   "execution_count": 87,
   "id": "armed-ethics",
   "metadata": {},
   "outputs": [],
   "source": [
    "import matplotlib.pyplot as plt\n",
    "plt.style.use('ggplot')\n",
    "\n",
    "def plot_history(history):\n",
    "    acc = history.history['accuracy']\n",
    "    val_acc = history.history['val_accuracy']\n",
    "    loss = history.history['loss']\n",
    "    val_loss = history.history['val_loss']\n",
    "    x = range(1, len(acc) + 1)\n",
    "\n",
    "    plt.figure(figsize=(12, 5))\n",
    "    plt.subplot(1, 2, 1)\n",
    "    plt.plot(x, acc, 'b', label='Training acc')\n",
    "    plt.plot(x, val_acc, 'r', label='Validation acc')\n",
    "    plt.title('Training and validation accuracy')\n",
    "    plt.legend()\n",
    "    plt.subplot(1, 2, 2)\n",
    "    plt.plot(x, loss, 'b', label='Training loss')\n",
    "    plt.plot(x, val_loss, 'r', label='Validation loss')\n",
    "    plt.title('Training and validation loss')\n",
    "    plt.legend()"
   ]
  },
  {
   "cell_type": "code",
   "execution_count": 92,
   "id": "framed-large",
   "metadata": {},
   "outputs": [
    {
     "name": "stdout",
     "output_type": "stream",
     "text": [
      "Training Accuracy: 0.76\n",
      "83/83 [==============================] - 0s 2ms/step - loss: 1.4868 - accuracy: 0.6005\n",
      "Testing Accuracy:  0.60\n"
     ]
    }
   ],
   "source": [
    "loss, accuracy = model.evaluate(X_train_nn, y_train_combine_nn, verbose=False)\n",
    "print(\"Training Accuracy: {:.2f}\".format(accuracy))\n",
    "loss, accuracy = model.evaluate(X_test_nn, y_test_combine_nn, verbose=True)\n",
    "print(\"Testing Accuracy:  {:.2f}\".format(accuracy))"
   ]
  },
  {
   "cell_type": "code",
   "execution_count": 93,
   "id": "registered-force",
   "metadata": {},
   "outputs": [
    {
     "data": {
      "image/png": "[encoded data removed]",
      "text/plain": [
       "<Figure size 864x360 with 2 Axes>"
      ]
     },
     "metadata": {},
     "output_type": "display_data"
    }
   ],
   "source": [
    "plot_history(history)"
   ]
  },
  {
   "cell_type": "code",
   "execution_count": 118,
   "id": "immediate-glass",
   "metadata": {},
   "outputs": [
    {
     "name": "stdout",
     "output_type": "stream",
     "text": [
      "Accuracy: 0.600453\n",
      "Precision: 0.452174\n",
      "Recall: 0.738798\n",
      "F1 score: 0.560996\n"
     ]
    },
    {
     "name": "stderr",
     "output_type": "stream",
     "text": [
      "C:\\Users\\USER\\AppData\\Local\\ActiveState\\cache\\b3f68620\\lib\\site-packages\\tensorflow\\python\\keras\\engine\\sequential.py:450: UserWarning: `model.predict_classes()` is deprecated and will be removed after 2021-01-01. Please use instead:* `np.argmax(model.predict(x), axis=-1)`,   if your model does multi-class classification   (e.g. if it uses a `softmax` last-layer activation).* `(model.predict(x) > 0.5).astype(\"int32\")`,   if your model does binary classification   (e.g. if it uses a `sigmoid` last-layer activation).\n",
      "  warnings.warn('`model.predict_classes()` is deprecated and '\n"
     ]
    }
   ],
   "source": [
    " # predict probabilities for test set\n",
    "yhat_probs = model.predict(X_test_nn, verbose=0)\n",
    "# predict crisp classes for test set\n",
    "yhat_classes = model.predict_classes(X_test_nn, verbose=0)\n",
    "# reduce to 1d array\n",
    "yhat_probs = yhat_probs[:, 0]\n",
    "yhat_classes = yhat_classes[:, 0]\n",
    " \n",
    "# accuracy: (tp + tn) / (p + n)\n",
    "accuracy = accuracy_score(y_test_combine_nn, yhat_classes)\n",
    "print('Accuracy: %f' % accuracy)\n",
    "\n",
    "# precision tp / (tp + fp)\n",
    "precision = precision_score(y_test_combine_nn, yhat_classes)\n",
    "print('Precision: %f' % precision)\n",
    "# recall: tp / (tp + fn)\n",
    "recall = recall_score(y_test_combine_nn, yhat_classes)\n",
    "print('Recall: %f' % recall)\n",
    "# f1: 2 tp / (2 tp + fp + fn)\n",
    "f1 = f1_score(y_test_combine_nn, yhat_classes)\n",
    "print('F1 score: %f' % f1)"
   ]
  },
  {
   "cell_type": "code",
   "execution_count": 119,
   "id": "increased-modern",
   "metadata": {},
   "outputs": [
    {
     "name": "stdout",
     "output_type": "stream",
     "text": [
      "[[914 819]\n",
      " [239 676]]\n"
     ]
    }
   ],
   "source": [
    "# confusion matrix\n",
    "matrix = confusion_matrix(y_test_combine_nn, yhat_classes)\n",
    "print(matrix)"
   ]
  },
  {
   "cell_type": "code",
   "execution_count": 121,
   "id": "biological-metallic",
   "metadata": {},
   "outputs": [
    {
     "data": {
      "text/plain": [
       "Text(33.0, 0.5, 'Predicted label for RNN')"
      ]
     },
     "execution_count": 121,
     "metadata": {},
     "output_type": "execute_result"
    },
    {
     "data": {
      "image/png": "[encoded data removed]",
      "text/plain": [
       "<Figure size 432x288 with 2 Axes>"
      ]
     },
     "metadata": {},
     "output_type": "display_data"
    }
   ],
   "source": [
    "from seaborn import heatmap\n",
    "heatmap(matrix , cmap=\"prism\", annot=True)\n",
    "plt.xlabel(\"True label for RNN\")\n",
    "plt.ylabel(\"Predicted label for RNN\")"
   ]
  }
 ],
 "metadata": {
  "kernelspec": {
   "display_name": "Python 3",
   "language": "python",
   "name": "python3"
  },
  "language_info": {
   "codemirror_mode": {
    "name": "ipython",
    "version": 3
   },
   "file_extension": ".py",
   "mimetype": "text/x-python",
   "name": "python",
   "nbconvert_exporter": "python",
   "pygments_lexer": "ipython3",
   "version": "3.8.8"
  }
 },
 "nbformat": 4,
 "nbformat_minor": 5
}
